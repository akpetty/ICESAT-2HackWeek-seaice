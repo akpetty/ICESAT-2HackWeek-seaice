{
 "cells": [
  {
   "cell_type": "markdown",
   "metadata": {},
   "source": [
    "# Exploring photon heights with ICESat-2 (ATL03)\n",
    "\n",
    "Information obtained primarily from the ATL03 Algorithm Theoretical Basis Document (ATBD, Neumann et al., 2019) and the NSIDC product description page: https://nsidc.org/data/atl03.   \n",
    "\n",
    "* Notebook author: Alek Petty, relying extensively on above product manuals.    \n",
    "* Description: Notebook describing the ICESat-2 ATL03 product.   \n",
    "* Input requirements: Demo ATL03 data file   \n",
    "* Date: June 2019\n",
    "* More info: See the ATL03 Algorithm Theoretical Basis Document (ATBD): https://icesat-2.gsfc.nasa.gov/sites/default/files/page_files/ICESat2_ATL03_ATBD_r001.pdf and the known issues document: https://nsidc.org/sites/nsidc.org/files/technical-references/ATL03_Known_Issues_May2019.pdf\n",
    "\n",
    "\n",
    "## To do\n",
    "\n",
    "* How to do cloud (and negative value) filtering!? Think this is in the generation of ATL07 though, but I at least need some comments about that.\n",
    "\n",
    "## Notebook objectives\n",
    "* General understanding of what's included in a typical ATL03 file.\n",
    "* Plotting and basic analysis of ATL03 data.\n"
   ]
  },
  {
   "cell_type": "markdown",
   "metadata": {},
   "source": [
    "# Notebook instructions\n",
    "1. Follow along with the notebook tutorial. \n",
    "2. Play around changing options and re-running the relevant notebook cells. \n",
    "\n",
    "Here I use the hdf5 file from: https://nsidc.org/data/atl03\n",
    "For the demo below I'm using the file: X\n",
    "If using this using the ICESAT-2 Pangeo instance, you can download the file using...\n",
    "\n",
    "\n",
    "\n"
   ]
  },
  {
   "cell_type": "code",
   "execution_count": 27,
   "metadata": {},
   "outputs": [],
   "source": [
    "#Magic function to enable interactive plotting in Jupyter notebook\n",
    "#Allows you to zoom/pan within plots after generating\n",
    "#Normally, this would be %matplotlib notebook, but since we're using Juptyerlab, we need a different widget\n",
    "#%matplotlib notebook\n",
    "%matplotlib inline"
   ]
  },
  {
   "cell_type": "code",
   "execution_count": 28,
   "metadata": {},
   "outputs": [],
   "source": [
    "#Import necesary modules\n",
    "#Use shorter names (np, pd, plt) instead of full (numpy, pandas, matplotlib.pylot) for convenience\n",
    "import numpy as np\n",
    "import pandas as pd\n",
    "import matplotlib.pyplot as plt\n",
    "import convert_GPS_time as cGPS\n",
    "import seaborn as sns\n",
    "import pandas as pd\n",
    "import h5py  \n",
    "# Use seasborn for nicer looking inline plots\n",
    "sns.set(context='notebook', style='darkgrid')\n",
    "#st = axes_style(\"whitegrid\")"
   ]
  },
  {
   "cell_type": "code",
   "execution_count": 29,
   "metadata": {},
   "outputs": [],
   "source": [
    "# add an option if you want to spit out data as an array or a pandas dataframe.\n",
    "\n",
    "def getATL03data(fileT, numpy=0, beam='gt1l', maxElev=1e6):\n",
    "    # Add in a proper description of the function here\n",
    "    \n",
    "    # Open the file\n",
    "    ATL03 = h5py.File(fileT, 'r')\n",
    "    \n",
    "    lons=ATL03[beam+'/heights/lon_ph'][:]\n",
    "    lats=ATL03[beam+'/heights/lat_ph'][:]\n",
    "    \n",
    "    # Along track distance from equator i think.\n",
    "    along_track_distance=ATL03[beam+'/heights/dist_ph_along'][:] \n",
    "    \n",
    "    #  Nathan says it's the number of seconds since the GPS epoch on midnight Jan. 6, 1980 \n",
    "    delta_time=ATL03[beam+'/heights/delta_time'][:] \n",
    "    \n",
    "    # #Add this value to delta time parameters to compute full gps_seconds\n",
    "    atlas_epoch=ATL03['/ancillary_data/atlas_sdp_gps_epoch'][:] \n",
    "    \n",
    "    # Conversion of delta_time to a calendar date\n",
    "    temp = cGPS.convert_GPS_time(atlas_epoch[0] + delta_time, OFFSET=0.0)\n",
    "    \n",
    "    # Express delta_time relative to start time of granule\n",
    "    delta_time_granule=delta_time-delta_time[0]\n",
    "\n",
    "    year = temp['year'][:].astype('int')\n",
    "    month = temp['month'][:].astype('int')\n",
    "    day = temp['day'][:].astype('int')\n",
    "    hour = temp['hour'][:].astype('int')\n",
    "    minute = temp['minute'][:].astype('int')\n",
    "    second = temp['second'][:].astype('int')\n",
    "\n",
    "    # Primary variables of interest\n",
    "    \n",
    "    # Photon height\n",
    "    heights=ATL03[beam+'/heights/h_ph'][:]\n",
    "    print(heights.shape)\n",
    "    # Flag for signal confidence\n",
    "    # column index:  0=Land; 1=Ocean; 2=SeaIce; 3=LandIce; 4=InlandWater\n",
    "    # values:\n",
    "        #-- -1: Events not associated with a specific surface type\n",
    "        #--  0: noise\n",
    "        #--  1: buffer but algorithm classifies as background\n",
    "        #--  2: low\n",
    "        #--  3: medium\n",
    "        #--  4: high\n",
    "    signal_confidence=ATL03[beam+'/heights/signal_conf_ph'][:,2] \n",
    "    print(signal_confidence.shape)\n",
    "    \n",
    "    ATL03.close()\n",
    "    \n",
    "    if (numpy==1):\n",
    "        # list the variables you want to output here..\n",
    "        return along_track_dist, elev\n",
    "    \n",
    "    else:\n",
    "        dF = pd.DataFrame({'heights':heights, 'lons':lons, 'lats':lats, 'signal_confidence':signal_confidence, \n",
    "                       'delta_time':delta_time_granule,'along_track_distance':along_track_distance, 'year':year, 'month':month, 'day':day, 'hour':hour, 'second':second})\n",
    "        \n",
    "        # Filter out high elevation values \n",
    "        #dF = dF[(dF['signal_confidence']>2)]\n",
    "        # Reset row indexing\n",
    "        #dF=dF.reset_index(drop=True)\n",
    "        return dF\n"
   ]
  },
  {
   "cell_type": "code",
   "execution_count": 30,
   "metadata": {},
   "outputs": [
    {
     "name": "stdout",
     "output_type": "stream",
     "text": [
      "(19105034,)\n",
      "(19105034,)\n"
     ]
    }
   ],
   "source": [
    "file_path = './'\n",
    "ATL03_filename = 'ATL03_20181115022655_07250104_001_01.h5'\n",
    "ATL03_file_path = file_path + ATL03_filename\n",
    "beamStr='gt1r'\n",
    "\n",
    "dF03=getATL03data(ATL03_file_path, beam=beamStr)\n"
   ]
  },
  {
   "cell_type": "code",
   "execution_count": 31,
   "metadata": {},
   "outputs": [
    {
     "data": {
      "text/html": [
       "<div>\n",
       "<style scoped>\n",
       "    .dataframe tbody tr th:only-of-type {\n",
       "        vertical-align: middle;\n",
       "    }\n",
       "\n",
       "    .dataframe tbody tr th {\n",
       "        vertical-align: top;\n",
       "    }\n",
       "\n",
       "    .dataframe thead th {\n",
       "        text-align: right;\n",
       "    }\n",
       "</style>\n",
       "<table border=\"1\" class=\"dataframe\">\n",
       "  <thead>\n",
       "    <tr style=\"text-align: right;\">\n",
       "      <th></th>\n",
       "      <th>along_track_distance</th>\n",
       "      <th>day</th>\n",
       "      <th>delta_time</th>\n",
       "      <th>heights</th>\n",
       "      <th>hour</th>\n",
       "      <th>lats</th>\n",
       "      <th>lons</th>\n",
       "      <th>month</th>\n",
       "      <th>second</th>\n",
       "      <th>signal_confidence</th>\n",
       "      <th>year</th>\n",
       "    </tr>\n",
       "  </thead>\n",
       "  <tbody>\n",
       "    <tr>\n",
       "      <th>19105029</th>\n",
       "      <td>17.451059</td>\n",
       "      <td>15</td>\n",
       "      <td>309.160807</td>\n",
       "      <td>938.635193</td>\n",
       "      <td>2</td>\n",
       "      <td>79.994335</td>\n",
       "      <td>4.479386</td>\n",
       "      <td>11</td>\n",
       "      <td>4</td>\n",
       "      <td>4</td>\n",
       "      <td>2018</td>\n",
       "    </tr>\n",
       "    <tr>\n",
       "      <th>19105030</th>\n",
       "      <td>18.308546</td>\n",
       "      <td>15</td>\n",
       "      <td>309.160907</td>\n",
       "      <td>956.879639</td>\n",
       "      <td>2</td>\n",
       "      <td>79.994328</td>\n",
       "      <td>4.479368</td>\n",
       "      <td>11</td>\n",
       "      <td>4</td>\n",
       "      <td>4</td>\n",
       "      <td>2018</td>\n",
       "    </tr>\n",
       "    <tr>\n",
       "      <th>19105031</th>\n",
       "      <td>19.037317</td>\n",
       "      <td>15</td>\n",
       "      <td>309.161007</td>\n",
       "      <td>960.410461</td>\n",
       "      <td>2</td>\n",
       "      <td>79.994322</td>\n",
       "      <td>4.479358</td>\n",
       "      <td>11</td>\n",
       "      <td>4</td>\n",
       "      <td>4</td>\n",
       "      <td>2018</td>\n",
       "    </tr>\n",
       "    <tr>\n",
       "      <th>19105032</th>\n",
       "      <td>19.784542</td>\n",
       "      <td>15</td>\n",
       "      <td>309.161107</td>\n",
       "      <td>966.907166</td>\n",
       "      <td>2</td>\n",
       "      <td>79.994316</td>\n",
       "      <td>4.479347</td>\n",
       "      <td>11</td>\n",
       "      <td>4</td>\n",
       "      <td>4</td>\n",
       "      <td>2018</td>\n",
       "    </tr>\n",
       "    <tr>\n",
       "      <th>19105033</th>\n",
       "      <td>19.762459</td>\n",
       "      <td>15</td>\n",
       "      <td>309.161107</td>\n",
       "      <td>963.295776</td>\n",
       "      <td>2</td>\n",
       "      <td>79.994316</td>\n",
       "      <td>4.479349</td>\n",
       "      <td>11</td>\n",
       "      <td>4</td>\n",
       "      <td>4</td>\n",
       "      <td>2018</td>\n",
       "    </tr>\n",
       "  </tbody>\n",
       "</table>\n",
       "</div>"
      ],
      "text/plain": [
       "          along_track_distance  day  delta_time     heights  hour       lats  \\\n",
       "19105029             17.451059   15  309.160807  938.635193     2  79.994335   \n",
       "19105030             18.308546   15  309.160907  956.879639     2  79.994328   \n",
       "19105031             19.037317   15  309.161007  960.410461     2  79.994322   \n",
       "19105032             19.784542   15  309.161107  966.907166     2  79.994316   \n",
       "19105033             19.762459   15  309.161107  963.295776     2  79.994316   \n",
       "\n",
       "              lons  month  second  signal_confidence  year  \n",
       "19105029  4.479386     11       4                  4  2018  \n",
       "19105030  4.479368     11       4                  4  2018  \n",
       "19105031  4.479358     11       4                  4  2018  \n",
       "19105032  4.479347     11       4                  4  2018  \n",
       "19105033  4.479349     11       4                  4  2018  "
      ]
     },
     "execution_count": 31,
     "metadata": {},
     "output_type": "execute_result"
    }
   ],
   "source": [
    "dF03.tail(5)"
   ]
  },
  {
   "cell_type": "code",
   "execution_count": 32,
   "metadata": {
    "scrolled": true
   },
   "outputs": [
    {
     "data": {
      "image/png": "[encoded data removed]",
      "text/plain": [
       "<Figure size 864x360 with 1 Axes>"
      ]
     },
     "metadata": {},
     "output_type": "display_data"
    }
   ],
   "source": [
    "plt.figure(figsize=(12, 5))\n",
    "plt.plot(dF03['delta_time'],dF03['heights'], color='k', marker='.', linestyle='None', alpha=0.3)\n",
    "plt.xlabel('Delta time (s)')\n",
    "plt.ylabel('Photon heights (m)')\n",
    "plt.show()\n"
   ]
  },
  {
   "cell_type": "code",
   "execution_count": 33,
   "metadata": {},
   "outputs": [
    {
     "data": {
      "image/png": "[encoded data removed]",
      "text/plain": [
       "<Figure size 864x360 with 1 Axes>"
      ]
     },
     "metadata": {},
     "output_type": "display_data"
    }
   ],
   "source": [
    "#dF = dF03[(dF['signal_confidence']>2)]\n",
    "#np.size(np.where(dF03['signal_confidence']==3))\n",
    "plt.figure(figsize=(12, 5))\n",
    "plt.plot(dF03[(dF03['signal_confidence']<2)]['delta_time'],dF03[(dF03['signal_confidence']<2)]['heights'], label='other', color='g', marker='.', linestyle='None', alpha=0.3)\n",
    "plt.plot(dF03[(dF03['signal_confidence']==2)]['delta_time'],dF03[(dF03['signal_confidence']==2)]['heights'], label='low', color='b', marker='.', linestyle='None', alpha=0.3)\n",
    "plt.plot(dF03[(dF03['signal_confidence']==3)]['delta_time'],dF03[(dF03['signal_confidence']==3)]['heights'], label='medium', color='c', marker='.', linestyle='None', alpha=0.1)\n",
    "plt.plot(dF03[(dF03['signal_confidence']==4)]['delta_time'],dF03[(dF03['signal_confidence']==4)]['heights'], label='high', color='m', marker='.', linestyle='None', alpha=0.1)\n",
    "plt.legend(loc=1)\n",
    "plt.xlabel('Delta time (s)')\n",
    "plt.ylabel('Photon heights (m)')\n",
    "plt.show()\n",
    "\n",
    "# Another (more elegant but less flexible) of doing a plot like this is using seaborn...\n",
    "#plt.figure(figsize=(12, 5))\n",
    "#sns.pairplot(x_vars=[\"delta_time\"], y_vars=[\"heights\"], data=dF03, \n",
    "#hue=\"signal_confidence\", size=5)\n",
    "#plt.gca().set_ylim((0, 50000))"
   ]
  },
  {
   "cell_type": "code",
   "execution_count": 34,
   "metadata": {},
   "outputs": [],
   "source": [
    "# How to do cloud (and negative value) filtering!? Think this is in the generation of ATL07?"
   ]
  },
  {
   "cell_type": "code",
   "execution_count": null,
   "metadata": {},
   "outputs": [],
   "source": []
  },
  {
   "cell_type": "code",
   "execution_count": null,
   "metadata": {},
   "outputs": [],
   "source": []
  }
 ],
 "metadata": {
  "kernelspec": {
   "display_name": "Python [conda env:py36env]",
   "language": "python",
   "name": "conda-env-py36env-py"
  },
  "language_info": {
   "codemirror_mode": {
    "name": "ipython",
    "version": 3
   },
   "file_extension": ".py",
   "mimetype": "text/x-python",
   "name": "python",
   "nbconvert_exporter": "python",
   "pygments_lexer": "ipython3",
   "version": "3.6.5"
  }
 },
 "nbformat": 4,
 "nbformat_minor": 2
}
