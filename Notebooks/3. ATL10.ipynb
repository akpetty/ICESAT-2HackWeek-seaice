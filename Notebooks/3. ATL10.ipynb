{
 "cells": [
  {
   "cell_type": "markdown",
   "metadata": {},
   "source": [
    "# Exploring sea ice freeboards with ICESat-2 (ATL10)\n",
    "\n",
    "Information obtained primarily from the ATL07/10 Algorithm Theoretical Basis Document (ATBD, Kwok et al., 2019)     and the NSIDC product description page: https://nsidc.org/data/atl10.   \n",
    "\n",
    "Notebook author: Alek Petty, relying extensively on above product manuals. \n",
    "Description: Notebook describing the ICESat-2 ATL10 product.   \n",
    "Input requirements: Demo ATL10 data file   \n",
    "Date: June 2019\n",
    "More info: See the ATL07/ATL10 Algorithm Theoretical Basis Document (ATBD): https://icesat-2.gsfc.nasa.gov/sites/default/files/page_files/ICESat2_ATL07_ATL10_ATBD_r001.pdf   \n",
    "\n",
    "\n",
    "## Notebook objectives\n",
    "* General understanding of what's included in a typical ATL07 file.\n",
    "* Plotting and basic analysis of ATL07 data.\n",
    "* Potentially some info on reading in and analyzing a large quantity of ATL07 data!\n"
   ]
  },
  {
   "cell_type": "markdown",
   "metadata": {},
   "source": [
    "## Notebook instructions\n",
    "1. Follow along with the notebook tutorial. \n",
    "2. Play around changing options and re-running the relevant notebook cells. \n",
    "\n",
    "Here I use the hdf5 file from: https://nsidc.org/data/atl07   \n",
    "For the demo below I'm using the file: X\n",
    "If using this using the ICESAT-2 Pangeo instance, you can download the file using...\n",
    "\n",
    "\n",
    "### Notes      \n",
    "* Check out the known issues document:https://nsidc.org/sites/nsidc.org/files/technical-references/ATL0710-KnownIssues.pdf\n",
    "\n"
   ]
  },
  {
   "cell_type": "code",
   "execution_count": null,
   "metadata": {},
   "outputs": [],
   "source": [
    "#Magic function to enable interactive plotting in Jupyter notebook\n",
    "#Allows you to zoom/pan within plots after generating\n",
    "#Normally, this would be %matplotlib notebook, but since we're using Juptyerlab, we need a different widget\n",
    "#%matplotlib notebook\n",
    "%matplotlib inline"
   ]
  },
  {
   "cell_type": "code",
   "execution_count": null,
   "metadata": {},
   "outputs": [],
   "source": [
    "#Import necesary modules\n",
    "#Use shorter names (np, pd, plt) instead of full (numpy, pandas, matplotlib.pylot) for convenience\n",
    "import numpy as np\n",
    "import pandas as pd\n",
    "import matplotlib.pyplot as plt\n",
    "import convert_GPS_time as cGPS\n",
    "import seaborn as sns\n",
    "import pandas as pd\n",
    "import h5py  "
   ]
  },
  {
   "cell_type": "code",
   "execution_count": null,
   "metadata": {},
   "outputs": [],
   "source": [
    "# Use seasborn for nicer looking inline plots\n",
    "sns.set(context='notebook', style='darkgrid')\n",
    "#st = axes_style(\"whitegrid\")\n",
    "\n",
    "file_path = './Data/'\n",
    "ATL10_filename = X\n",
    "ATL10_file_path = file_path + ATL10_filename\n",
    "beamStr='gt1r'"
   ]
  },
  {
   "cell_type": "code",
   "execution_count": null,
   "metadata": {},
   "outputs": [],
   "source": [
    "def getATL10FreeboardShotData(fileT, mapProj, beamStr='gt1r'):\n",
    "    \"\"\"\n",
    "    Load ATL10 freeboard shot data from a given beam\n",
    "    # Store in a Pandas dataframe\n",
    "\n",
    "    Args:\n",
    "        freeboardFileT (file): file path of ICESat freeboard data\n",
    "        mapProj (basemap instance): basemap map projection\n",
    "        beamStr (str): ground track (gt1, gt2, gt3) then the weak (l) and strong (r) beam\n",
    "            i.e. gt1r is the strong beam from ground track 1\n",
    "\n",
    "    \n",
    "    Returns:\n",
    "        dF (var): Dataframe containing freeboard, year, month, day, lon, lat, x, y\n",
    "\n",
    "    I think the dates are indexed starting from 1 - i.e. month of 1 = January \n",
    "        \n",
    "    \"\"\"\n",
    "\n",
    "    print('ATL10 file:', fileT)\n",
    "    \n",
    "    f1 = h5py.File(fileT, 'r')\n",
    "    try:\n",
    "        freeboard=f1[beamStr]['freeboard_beam_segment']['beam_freeboard']['beam_fb_height'][:]\n",
    "    except:\n",
    "        return 'No good shot data'\n",
    "\n",
    "    freeboard_confidence=f1[beamStr]['freeboard_beam_segment']['beam_freeboard']['beam_fb_confidence'][:]\n",
    "    freeboard_quality=f1[beamStr]['freeboard_beam_segment']['beam_freeboard']['beam_fb_quality_flag'][:]\n",
    "    \n",
    "    lons=f1[beamStr]['freeboard_beam_segment']['beam_freeboard']['longitude'][:]\n",
    "    lats=f1[beamStr]['freeboard_beam_segment']['beam_freeboard']['latitude'][:]\n",
    "    deltaTime=f1[beamStr]['freeboard_beam_segment']['beam_freeboard']['delta_time'][:]\n",
    "\n",
    "    dF = pd.DataFrame({'freeboard':freeboard, 'lon':lons, 'lat':lats, 'delta_time':deltaTime})\n",
    "\n",
    "    dF = dF[(dF['freeboard']>0)]\n",
    "    dF = dF[(dF['freeboard']<10)]\n",
    "\n",
    "    # Decide here if we want to also filter based on the confidence and/or quality flag\n",
    "\n",
    "    # Reset row indexing\n",
    "    dF=dF.reset_index(drop=True)\n",
    "\n",
    "    #print(fileT)\n",
    "    #fileStr=fileT.split(\"/ATL10_\")[-1]\n",
    "    #print(fileStr)\n",
    "    #dF['year'] = int(fileStr[0:4])\n",
    "    #dF['month'] = int(fileStr[4:6])\n",
    "    #dF['day'] = int(fileStr[6:8])\n",
    "\n",
    "    print('Year:', fileStr[0:4], 'Month:', fileStr[4:6], 'Day:', fileStr[6:8])\n",
    "    \n",
    "\n",
    "    #xpts, ypts=mapProj(dF['lon'].values, dF['lat'].values)\n",
    "\n",
    "    #dF['xpts'] = pd.Series(xpts, index=dF.index)\n",
    "    #dF['ypts'] = pd.Series(ypts, index=dF.index)\n",
    "\n",
    "    #dF['shot'] = beamStr\n",
    "    \n",
    "\n",
    "    return dF\n"
   ]
  }
 ],
 "metadata": {
  "kernelspec": {
   "display_name": "Python [conda env:root] *",
   "language": "python",
   "name": "conda-root-py"
  },
  "language_info": {
   "codemirror_mode": {
    "name": "ipython",
    "version": 3
   },
   "file_extension": ".py",
   "mimetype": "text/x-python",
   "name": "python",
   "nbconvert_exporter": "python",
   "pygments_lexer": "ipython3",
   "version": "3.6.7"
  }
 },
 "nbformat": 4,
 "nbformat_minor": 2
}
